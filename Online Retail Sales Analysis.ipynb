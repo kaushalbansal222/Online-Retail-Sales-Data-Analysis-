{
 "cells": [
  {
   "cell_type": "markdown",
   "id": "4f086b1f-c50c-49c3-9a41-a0ee58b16e50",
   "metadata": {},
   "source": [
    "# 📦 Online Retail Sales Data Analysis (with Cancellations)"
   ]
  },
  {
   "cell_type": "markdown",
   "id": "2aa85d8c-772f-45ab-b9bc-6ddab8133892",
   "metadata": {},
   "source": [
    "#  1. Importing Libraries "
   ]
  },
  {
   "cell_type": "code",
   "execution_count": 8,
   "id": "04bbce94-aedf-4a60-a32b-0f4a2cadb381",
   "metadata": {},
   "outputs": [],
   "source": [
    "import pandas as pd\n",
    "from pandasql import sqldf\n",
    "import numpy as np\n",
    "import matplotlib.pyplot as plt\n",
    "import seaborn as sns\n",
    "import os"
   ]
  },
  {
   "cell_type": "code",
   "execution_count": 9,
   "id": "3dc8a50a-44f7-4963-912d-7f32a1caad52",
   "metadata": {},
   "outputs": [],
   "source": [
    "# Display settings\n",
    "\n",
    "pd.set_option(\"display.float_format\", lambda x: \"%.2f\" % x)\n",
    "sns.set(style=\"whitegrid\")"
   ]
  },
  {
   "cell_type": "markdown",
   "id": "c58725df-f004-4ecf-b1c6-ea0dbe83d795",
   "metadata": {},
   "source": [
    "#  2. Importing Data"
   ]
  },
  {
   "cell_type": "code",
   "execution_count": 15,
   "id": "98a5592a-f3f5-4403-adbd-af2e6019f682",
   "metadata": {},
   "outputs": [
    {
     "name": "stdout",
     "output_type": "stream",
     "text": [
      "  InvoiceNo StockCode                          Description  Quantity  \\\n",
      "0    536365    85123A   WHITE HANGING HEART T-LIGHT HOLDER         6   \n",
      "1    536365     71053                  WHITE METAL LANTERN         6   \n",
      "2    536365    84406B       CREAM CUPID HEARTS COAT HANGER         8   \n",
      "3    536365    84029G  KNITTED UNION FLAG HOT WATER BOTTLE         6   \n",
      "4    536365    84029E       RED WOOLLY HOTTIE WHITE HEART.         6   \n",
      "\n",
      "      InvoiceDate  UnitPrice  CustomerID         Country  \n",
      "0  12/1/2010 8:26       2.55    17850.00  United Kingdom  \n",
      "1  12/1/2010 8:26       3.39    17850.00  United Kingdom  \n",
      "2  12/1/2010 8:26       2.75    17850.00  United Kingdom  \n",
      "3  12/1/2010 8:26       3.39    17850.00  United Kingdom  \n",
      "4  12/1/2010 8:26       3.39    17850.00  United Kingdom  \n"
     ]
    }
   ],
   "source": [
    "try:\n",
    "    retail = pd.read_csv(\"/Users/micic/Downloads/data.csv\", encoding='utf-8')\n",
    "except UnicodeDecodeError:\n",
    "    # Fallback to ISO-8859-1\n",
    "    retail = pd.read_csv(\"/Users/micic/Downloads/data.csv\", encoding='ISO-8859-1')\n",
    "\n",
    "# SQL setup\n",
    "pysqldf = lambda q: sqldf(q, globals())\n",
    "\n",
    "# Example query\n",
    "query = \"SELECT * FROM retail LIMIT 5;\"\n",
    "print(pysqldf(query))"
   ]
  },
  {
   "cell_type": "markdown",
   "id": "c50e61a1-a5ae-4d31-8f32-babc4e37bc84",
   "metadata": {},
   "source": [
    "# 3. Data Cleaning "
   ]
  },
  {
   "cell_type": "code",
   "execution_count": 16,
   "id": "2b8d1801-49ed-440b-bb14-8d00fc9cb760",
   "metadata": {},
   "outputs": [
    {
     "name": "stdout",
     "output_type": "stream",
     "text": [
      "Total Rows: 406829\n",
      "Total Columns: 11\n",
      "\n",
      "       Quantity                    InvoiceDate  UnitPrice  CustomerID  \\\n",
      "count 406829.00                         406829  406829.00   406829.00   \n",
      "mean      12.06  2011-07-10 16:30:57.879207424       3.46    15287.69   \n",
      "min   -80995.00            2010-12-01 08:26:00       0.00    12346.00   \n",
      "25%        2.00            2011-04-06 15:02:00       1.25    13953.00   \n",
      "50%        5.00            2011-07-31 11:48:00       1.95    15152.00   \n",
      "75%       12.00            2011-10-20 13:06:00       3.75    16791.00   \n",
      "max    80995.00            2011-12-09 12:50:00   38970.00    18287.00   \n",
      "std      248.69                            NaN      69.32     1713.60   \n",
      "\n",
      "       TotalPrice  \n",
      "count   406829.00  \n",
      "mean        20.40  \n",
      "min    -168469.60  \n",
      "25%          4.20  \n",
      "50%         11.10  \n",
      "75%         19.50  \n",
      "max     168469.60  \n",
      "std        427.59  \n",
      "InvoiceNo         0\n",
      "StockCode         0\n",
      "Description       0\n",
      "Quantity          0\n",
      "InvoiceDate       0\n",
      "UnitPrice         0\n",
      "CustomerID        0\n",
      "Country           0\n",
      "TotalPrice        0\n",
      "Month             0\n",
      "IsCancellation    0\n",
      "dtype: int64\n"
     ]
    }
   ],
   "source": [
    "# Data Description \n",
    "\n",
    "rows, columns = df.shape\n",
    "print(f\"Total Rows: {rows}\")\n",
    "print(f\"Total Columns: {columns}\\n\")\n",
    "print(df.describe())\n",
    "\n",
    "# Missing/Null Values \n",
    "\n",
    "print(df.isnull().sum())\n"
   ]
  },
  {
   "cell_type": "code",
   "execution_count": 53,
   "id": "0b2c0ef3-f270-4fb0-9363-6100ef6eb751",
   "metadata": {},
   "outputs": [
    {
     "name": "stdout",
     "output_type": "stream",
     "text": [
      "✅ Dataset shape after cleaning: (406829, 11)\n",
      "✅ Total Cancellations: 8905\n"
     ]
    }
   ],
   "source": [
    "df.dropna(subset=[\"CustomerID\"], inplace=True)\n",
    "df = df[df[\"Quantity\"] != 0]   # keep cancellations but remove zero-quantity rows\n",
    "\n",
    "df[\"TotalPrice\"] = df[\"Quantity\"] * df[\"UnitPrice\"]\n",
    "df[\"InvoiceDate\"] = pd.to_datetime(df[\"InvoiceDate\"])\n",
    "df[\"Month\"] = df[\"InvoiceDate\"].dt.to_period(\"M\")\n",
    "\n",
    "# Flag cancellations\n",
    "df[\"IsCancellation\"] = df[\"InvoiceNo\"].astype(str).str.startswith(\"C\")\n",
    "\n",
    "print(f\"✅ Dataset shape after cleaning: {df.shape}\")\n",
    "print(f\"✅ Total Cancellations: {df['IsCancellation'].sum()}\")"
   ]
  },
  {
   "cell_type": "markdown",
   "id": "b8025451-9317-4b60-bde2-2cf0693e304f",
   "metadata": {},
   "source": [
    "# 3. Metrics & Analysis"
   ]
  },
  {
   "cell_type": "markdown",
   "id": "5f35cd04-4bf7-4a54-bd5c-2b019ce8240c",
   "metadata": {},
   "source": [
    "## Sales & Revenue Metrics"
   ]
  },
  {
   "cell_type": "markdown",
   "id": "9f7f081d-9137-444c-b647-2ad4ff24c3e4",
   "metadata": {},
   "source": [
    "### 1. Top Products by Revenue"
   ]
  },
  {
   "cell_type": "code",
   "execution_count": 18,
   "id": "65333bf5-e46b-4f1a-a071-ad5bb25f58df",
   "metadata": {},
   "outputs": [
    {
     "name": "stdout",
     "output_type": "stream",
     "text": [
      "                          Description   Revenue\n",
      "0                      DOTCOM POSTAGE 206248.77\n",
      "1            REGENCY CAKESTAND 3 TIER 174484.74\n",
      "2         PAPER CRAFT , LITTLE BIRDIE 168469.60\n",
      "3  WHITE HANGING HEART T-LIGHT HOLDER 106292.77\n",
      "4                       PARTY BUNTING  99504.33\n",
      "5             JUMBO BAG RED RETROSPOT  94340.05\n",
      "6      MEDIUM CERAMIC TOP STORAGE JAR  81700.92\n",
      "7                              Manual  78112.82\n",
      "8                             POSTAGE  78101.88\n",
      "9                  RABBIT NIGHT LIGHT  66964.99\n"
     ]
    }
   ],
   "source": [
    "query = \"\"\"\n",
    "SELECT Description, SUM(Quantity * UnitPrice) AS Revenue\n",
    "FROM retail\n",
    "WHERE InvoiceNo NOT LIKE 'C%'\n",
    "GROUP BY Description\n",
    "ORDER BY Revenue DESC\n",
    "LIMIT 10;\n",
    "\"\"\"\n",
    "print(pysqldf(query))"
   ]
  },
  {
   "cell_type": "markdown",
   "id": "8e9b339a-923f-44f7-8e68-21641ea99c01",
   "metadata": {},
   "source": [
    "### 2. Revenue by Country\n"
   ]
  },
  {
   "cell_type": "code",
   "execution_count": 20,
   "id": "818b7bd2-4ca8-45db-83e7-25dd68f59b8d",
   "metadata": {},
   "outputs": [
    {
     "name": "stdout",
     "output_type": "stream",
     "text": [
      "          Country    Revenue\n",
      "0  United Kingdom 9003097.96\n",
      "1     Netherlands  285446.34\n",
      "2            EIRE  283453.96\n",
      "3         Germany  228867.14\n",
      "4          France  209715.11\n",
      "5       Australia  138521.31\n",
      "6           Spain   61577.11\n",
      "7     Switzerland   57089.90\n",
      "8         Belgium   41196.34\n",
      "9          Sweden   38378.33\n"
     ]
    }
   ],
   "source": [
    "query = \"\"\"\n",
    "SELECT Country, SUM(Quantity * UnitPrice) AS Revenue\n",
    "FROM retail\n",
    "WHERE InvoiceNo NOT LIKE 'C%'\n",
    "GROUP BY Country\n",
    "ORDER BY Revenue DESC\n",
    "LIMIT 10;\n",
    "\"\"\"\n",
    "print(pysqldf(query))"
   ]
  },
  {
   "cell_type": "markdown",
   "id": "cae09ba6-2c62-4ebe-9f21-91ccfc2b7d90",
   "metadata": {},
   "source": [
    "### 3. Monthly Revenue Trend"
   ]
  },
  {
   "cell_type": "code",
   "execution_count": 25,
   "id": "56cb7fad-42a0-4020-95eb-666f43134c1b",
   "metadata": {},
   "outputs": [
    {
     "name": "stdout",
     "output_type": "stream",
     "text": [
      "  Month     Revenue\n",
      "0  None 10644560.42\n"
     ]
    }
   ],
   "source": [
    "query = \"\"\"\n",
    "SELECT strftime('%Y-%m', InvoiceDate) AS Month, SUM(Quantity * UnitPrice) AS Revenue\n",
    "FROM retail\n",
    "WHERE Quantity>0\n",
    "GROUP BY strftime('%Y-%m', InvoiceDate)\n",
    "ORDER BY Month;\n",
    "\"\"\"\n",
    "print(pysqldf(query))"
   ]
  },
  {
   "cell_type": "markdown",
   "id": "824f3939-50f8-4419-917f-5eded0a6d505",
   "metadata": {},
   "source": [
    "### 4. Average Order Value (AOV)"
   ]
  },
  {
   "cell_type": "code",
   "execution_count": 32,
   "id": "095ed41f-ff41-468d-a251-03b8b3419ddc",
   "metadata": {},
   "outputs": [
    {
     "name": "stdout",
     "output_type": "stream",
     "text": [
      "     AOV\n",
      "0 376.36\n"
     ]
    }
   ],
   "source": [
    "query = \"\"\"\n",
    "SELECT ROUND(SUM(Quantity * UnitPrice) * 1.0 / COUNT(DISTINCT InvoiceNo), 2) AS AOV\n",
    "FROM retail  \n",
    "\"\"\"\n",
    "print(pysqldf(query))"
   ]
  },
  {
   "cell_type": "markdown",
   "id": "238d0072-4d7f-492b-9fa5-c4b0ee9a65d5",
   "metadata": {},
   "source": [
    "### 5. Customer Lifetime Value (CLV)"
   ]
  },
  {
   "cell_type": "code",
   "execution_count": 34,
   "id": "4194ef64-dabc-45de-be2b-d2f591afaafd",
   "metadata": {},
   "outputs": [
    {
     "name": "stdout",
     "output_type": "stream",
     "text": [
      "      CLV\n",
      "0 2053.79\n"
     ]
    }
   ],
   "source": [
    "query = \"\"\"\n",
    "SELECT ROUND(AVG(CustomerRevenue), 2) AS CLV\n",
    "FROM (\n",
    "    SELECT CustomerID, SUM(Quantity * UnitPrice) AS CustomerRevenue\n",
    "    FROM retail\n",
    "    WHERE InvoiceNo NOT LIKE 'C%' AND Quantity > 0\n",
    "    AND CustomerID is not NUll \n",
    "    GROUP BY CustomerID\n",
    ");\n",
    "\"\"\"\n",
    "print(pysqldf(query))"
   ]
  },
  {
   "cell_type": "markdown",
   "id": "c8b39a18-0c35-4a19-9d75-885b65e883cf",
   "metadata": {},
   "source": [
    "### 6. Revenue per Customer by Country"
   ]
  },
  {
   "cell_type": "code",
   "execution_count": 39,
   "id": "8517d840-2a6c-421a-8678-5c956a9d7406",
   "metadata": {},
   "outputs": [
    {
     "name": "stdout",
     "output_type": "stream",
     "text": [
      "            Country  Revenue\n",
      "0              EIRE 70863.49\n",
      "1       Netherlands 31716.26\n",
      "2         Singapore 21279.29\n",
      "3         Hong Kong 15691.80\n",
      "4         Australia 15391.26\n",
      "5            Sweden  4797.29\n",
      "6             Japan  4677.05\n",
      "7           Iceland  4310.00\n",
      "8            Norway  3616.54\n",
      "9       Switzerland  2595.00\n",
      "10          Germany  2434.76\n",
      "11           France  2383.13\n",
      "12   United Kingdom  2295.54\n",
      "13  Channel Islands  2272.27\n",
      "14          Denmark  2106.15\n"
     ]
    }
   ],
   "source": [
    "query = \"\"\"\n",
    "WITH D1 AS (SELECT Country, CustomerID, ROUND(SUM(Quantity * UnitPrice), 2) AS Revenue\n",
    "FROM retail\n",
    "WHERE InvoiceNo NOT LIKE 'C%' AND Quantity > 0 and CustomerID is not NULL\n",
    "GROUP BY Country, CustomerID) \n",
    "\n",
    "SELECT Country, AVG(Revenue) AS Revenue  FROM D1 GROUP BY Country\n",
    "ORDER BY Revenue DESC\n",
    "LIMIT 15 \n",
    "\"\"\"\n",
    "print(pysqldf(query))"
   ]
  },
  {
   "cell_type": "markdown",
   "id": "0b7bdf4b-d778-4fb7-870f-4d033d816675",
   "metadata": {},
   "source": [
    "## Customer Behavior Metrics\n"
   ]
  },
  {
   "cell_type": "markdown",
   "id": "65518e4e-2e1c-4cdf-9783-158d101dc76d",
   "metadata": {},
   "source": [
    "### 1. Repeat Purchase Rate"
   ]
  },
  {
   "cell_type": "code",
   "execution_count": 42,
   "id": "6ac00da0-a065-4293-892e-9291152397b8",
   "metadata": {},
   "outputs": [
    {
     "name": "stdout",
     "output_type": "stream",
     "text": [
      "   RepeatPurchaseRate\n",
      "0                0.66\n"
     ]
    }
   ],
   "source": [
    "query = \"\"\"\n",
    "SELECT ROUND(COUNT(DISTINCT CASE WHEN InvoiceCount > 1 THEN CustomerID END) * 1.0 / COUNT(DISTINCT CustomerID), 2) AS RepeatPurchaseRate\n",
    "FROM (\n",
    "    SELECT CustomerID, COUNT(DISTINCT InvoiceNo) AS InvoiceCount\n",
    "    FROM retail\n",
    "    WHERE InvoiceNo NOT LIKE 'C%' AND Quantity > 0 AND CustomerID is not NULL\n",
    "    GROUP BY CustomerID\n",
    ");\n",
    "\"\"\"\n",
    "print(pysqldf(query))"
   ]
  },
  {
   "cell_type": "markdown",
   "id": "e47a7653-1f25-4a96-b7a9-969d02312dfe",
   "metadata": {},
   "source": [
    "## Cancellation Metrics"
   ]
  },
  {
   "cell_type": "markdown",
   "id": "386c13d9-450b-4b53-962a-62a134ed55fd",
   "metadata": {},
   "source": [
    "### 1. Cancellation Summary"
   ]
  },
  {
   "cell_type": "code",
   "execution_count": 46,
   "id": "85fc72c4-d32e-4ab0-8591-b8fb9a406bad",
   "metadata": {},
   "outputs": [
    {
     "name": "stdout",
     "output_type": "stream",
     "text": [
      "   Total_Cancellations  Total_Cancelled_Items  Total_Cancelled_Value  \\\n",
      "0                 3836                -277574             -896812.49   \n",
      "\n",
      "   Cancellation_Invoices_percentage  Cancellation_Revenue_percentage  \n",
      "0                             14.81                             9.20  \n"
     ]
    }
   ],
   "source": [
    "query = \"\"\"\n",
    "SELECT \n",
    "    COUNT(DISTINCT CASE WHEN InvoiceNo LIKE 'C%' THEN InvoiceNo END) AS Total_Cancellations,\n",
    "    SUM(CASE WHEN InvoiceNo LIKE 'C%' THEN Quantity ELSE 0 END) AS Total_Cancelled_Items,\n",
    "    ROUND(SUM(CASE WHEN InvoiceNo LIKE 'C%' THEN Quantity * UnitPrice ELSE 0 END), 2) AS Total_Cancelled_Value,\n",
    "    ROUND(CAST(COUNT(DISTINCT CASE WHEN InvoiceNo LIKE 'C%' THEN InvoiceNo END) AS FLOAT)*100.00 / COUNT(DISTINCT InvoiceNo), 2) AS Cancellation_Invoices_percentage,\n",
    "    ROUND(ABS(SUM(CASE WHEN InvoiceNo LIKE 'C%' THEN Quantity * UnitPrice ELSE 0 END)) * 100.0 / SUM(Quantity * UnitPrice), 2) AS Cancellation_Revenue_percentage\n",
    "FROM retail;\n",
    "\"\"\"\n",
    "print(pysqldf(query))"
   ]
  }
 ],
 "metadata": {
  "kernelspec": {
   "display_name": "Python [conda env:base] *",
   "language": "python",
   "name": "conda-base-py"
  },
  "language_info": {
   "codemirror_mode": {
    "name": "ipython",
    "version": 3
   },
   "file_extension": ".py",
   "mimetype": "text/x-python",
   "name": "python",
   "nbconvert_exporter": "python",
   "pygments_lexer": "ipython3",
   "version": "3.12.7"
  }
 },
 "nbformat": 4,
 "nbformat_minor": 5
}
